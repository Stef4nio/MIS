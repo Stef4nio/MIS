{
 "nbformat": 4,
 "nbformat_minor": 0,
 "metadata": {
  "colab": {
   "provenance": []
  },
  "kernelspec": {
   "name": "python3",
   "language": "python",
   "display_name": "Python 3 (ipykernel)"
  },
  "language_info": {
   "name": "python"
  }
 },
 "cells": [
  {
   "cell_type": "code",
   "execution_count": 4,
   "metadata": {
    "id": "4acJ2gRuLeE6",
    "ExecuteTime": {
     "end_time": "2023-05-05T09:12:03.254170900Z",
     "start_time": "2023-05-05T09:12:03.228455Z"
    }
   },
   "outputs": [],
   "source": [
    "import pandas as pd\n",
    "from sklearn.model_selection import train_test_split\n",
    "from sklearn.preprocessing import LabelEncoder\n",
    "from sklearn.ensemble import RandomForestClassifier\n",
    "from sklearn.metrics import accuracy_score, classification_report\n",
    "from sklearn.impute import SimpleImputer\n"
   ]
  },
  {
   "cell_type": "code",
   "source": [
    "data = pd.read_csv(\"Expanded_data_with_more_features.csv\")"
   ],
   "metadata": {
    "id": "7utKaJkXMiwX",
    "ExecuteTime": {
     "end_time": "2023-05-05T09:12:03.320524200Z",
     "start_time": "2023-05-05T09:12:03.240561200Z"
    }
   },
   "execution_count": 5,
   "outputs": []
  },
  {
   "cell_type": "code",
   "execution_count": 6,
   "outputs": [
    {
     "name": "stdout",
     "output_type": "stream",
     "text": [
      "Accuracy: 0.7227505486466715\n",
      "Classification Report:\n",
      "               precision    recall  f1-score   support\n",
      "\n",
      "   completed       0.65      0.43      0.52      1889\n",
      "        none       0.74      0.88      0.81      3579\n",
      "\n",
      "    accuracy                           0.72      5468\n",
      "   macro avg       0.70      0.65      0.66      5468\n",
      "weighted avg       0.71      0.72      0.71      5468\n",
      "\n"
     ]
    }
   ],
   "source": [
    "label_encoder = LabelEncoder()\n",
    "category_columns = ['Gender', 'EthnicGroup', 'ParentEduc', 'LunchType', 'ParentMaritalStatus', 'PracticeSport', 'IsFirstChild', 'TransportMeans', 'WklyStudyHours']\n",
    "\n",
    "for column in category_columns:\n",
    "    data[column] = label_encoder.fit_transform(data[column])\n",
    "\n",
    "data = data.dropna()\n",
    "\n",
    "X = data.drop('TestPrep', axis=1)\n",
    "y = data['TestPrep']\n",
    "\n",
    "X_train, X_test, y_train, y_test = train_test_split(X, y, test_size=0.2, random_state=42)\n",
    "\n",
    "model = RandomForestClassifier(n_estimators=100, random_state=42)\n",
    "model.fit(X_train, y_train)\n",
    "\n",
    "y_pred = model.predict(X_test)\n",
    "\n",
    "accuracy = accuracy_score(y_test, y_pred)\n",
    "print(\"Accuracy:\", accuracy)\n",
    "\n",
    "report = classification_report(y_test, y_pred)\n",
    "print(\"Classification Report:\\n\", report)"
   ],
   "metadata": {
    "collapsed": false,
    "ExecuteTime": {
     "end_time": "2023-05-05T09:12:06.587183400Z",
     "start_time": "2023-05-05T09:12:03.323541500Z"
    }
   }
  }
 ]
}
