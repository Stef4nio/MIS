{
 "cells": [
  {
   "cell_type": "markdown",
   "id": "dbb9febc",
   "metadata": {},
   "source": [
    "# Czech Republic\n",
    "\n",
    "The **Czech Republic** is a landlocked country in Central Europe. It has an area of **78,866 square kilometers** and a population of approximately **10.7 million people**.\n",
    "\n",
    "## Government\n",
    "\n",
    "The Czech Republic is a parliamentary democracy with a **President** as the head of state and a **Prime Minister** as the head of government. The country has a bicameral parliament, consisting of the **Chamber of Deputies** and the **Senate**.\n",
    "\n",
    "## Prominent Personalities\n",
    "\n",
    "The Czech Republic has produced many notable personalities throughout its history. Some of the most well-known include:\n",
    "\n",
    "- **Franz Kafka**, author of works such as _The Trial_ and _The Metamorphosis_\n",
    "- **Antonín Dvořák**, composer of famous works such as the _New World Symphony_ and the _Cello Concerto_\n",
    "- **Václav Havel**, playwright, essayist, and former President of the Czech Republic\n"
   ]
  },
  {
   "cell_type": "code",
   "execution_count": 31,
   "id": "c60e96e4",
   "metadata": {
    "scrolled": true
   },
   "outputs": [
    {
     "data": {
      "text/html": [
       "    <style>\n",
       "      h1 {\n",
       "        color: navy;\n",
       "        text-align: center;\n",
       "        text-shadow: 2px 2px lightgray;\n",
       "      }\n",
       "      h2 {\n",
       "        font-style: italic;\n",
       "        color: darkblue;\n",
       "        text-shadow: 1px 1px lightgray;\n",
       "      }\n",
       "      strong {\n",
       "        color: crimson;\n",
       "      }\n",
       "      table {\n",
       "        border-collapse: collapse;\n",
       "        margin: 1em auto;\n",
       "      }\n",
       "      th, td {\n",
       "        padding: 0.5em;\n",
       "        border: 1px solid darkgray;\n",
       "        text-align: left;\n",
       "      }\n",
       "      th {\n",
       "        background-color: lightgray;\n",
       "      }\n",
       "      .monument {\n",
       "        margin-left: 1em;\n",
       "        margin-bottom: 0.5em;\n",
       "        border-left: 3px solid navy;\n",
       "        padding-left: 1em;\n",
       "      }\n",
       "      .picture {\n",
       "        max-width: 100%;\n",
       "        display: block;\n",
       "        margin: 1em auto;\n",
       "      }\n",
       "    </style>\n",
       "    \n",
       "    <h1>Czech Republic</h1>\n",
       "    <p>The <strong>Czech Republic</strong> is a country located in Central Europe. It covers an area of <strong>78,870 square kilometers</strong> and has a population of approximately <strong>10.7 million people</strong>.</p>\n",
       "    \n",
       "    <h2>Government</h2>\n",
       "    <p>The Czech Republic is a parliamentary democracy with a president as its head of state and a prime minister as its head of government. The country has a multi-party system and the Parliament is composed of two chambers: the Chamber of Deputies and the Senate.</p>\n",
       "    \n",
       "    <h2>Prominent Personalities</h2>\n",
       "    <ul>\n",
       "      <li><strong>Vaclav Havel</strong> - former President and playwright</li>\n",
       "      <li><strong>Alphonse Mucha</strong> - artist and designer</li>\n",
       "      <li><strong>Franz Kafka</strong> - writer</li>\n",
       "      <li><strong>Karel Capek</strong> - writer and inventor of the word \"robot\"</li>\n",
       "    </ul>\n",
       "    \n",
       "    <h2>Natural Monuments</h2>\n",
       "    <ul>\n",
       "      <li class=\"monument\"><strong>Bohemian Switzerland National Park</strong> - a national park known for its sandstone formations and deep canyons</li>\n",
       "      <li class=\"monument\"><strong>Krkonoše National Park</strong> - a national park located in the Krkonoše Mountains</li>\n",
       "      <li class=\"monument\"><strong>Moravian Karst</strong> - a natural park with caves and underground rivers</li>\n",
       "    </ul>\n",
       "<h2>Quick Facts</h2>\n",
       "<table>\n",
       "  <thead>\n",
       "    <tr>\n",
       "      <th>Category</th>\n",
       "      <th>Fact</th>\n",
       "    </tr>\n",
       "  </thead>\n",
       "  <tbody>\n",
       "    <tr>\n",
       "      <td>Capital</td>\n",
       "      <td>Prague</td>\n",
       "    </tr>\n",
       "    <tr>\n",
       "      <td>Currency</td>\n",
       "      <td>Czech koruna (CZK)</td>\n",
       "    </tr>\n",
       "    <tr>\n",
       "      <td>Official Language</td>\n",
       "      <td>Czech</td>\n",
       "    </tr>\n",
       "    <tr>\n",
       "      <td>Time Zone</td>\n",
       "      <td>Central European Time (UTC+1)</td>\n",
       "    </tr>\n",
       "  </tbody>\n",
       "</table>\n",
       "\n",
       "<h2>Links</h2>\n",
       "<ul>\n",
       "  <li><a href=\"https://www.czechtourism.com/home/\" target=\"_blank\">Czech Tourism</a></li>\n",
       "  <li><a href=\"https://www.czech.cz/en/Home-en\" target=\"_blank\">Czech Republic - Official Website</a></li>\n",
       "</ul>\n",
       "\n",
       "<img src=\"https://upload.wikimedia.org/wikipedia/commons/thumb/c/cb/Prague_-_Charles_Bridge_%282%29.jpg/1200px-Prague_-_Charles_Bridge_%282%29.jpg\" alt=\"Charles Bridge in Prague\" class=\"picture\">\n"
      ],
      "text/plain": [
       "<IPython.core.display.HTML object>"
      ]
     },
     "metadata": {},
     "output_type": "display_data"
    }
   ],
   "source": [
    "%%HTML\n",
    "    <style>\n",
    "      h1 {\n",
    "        color: navy;\n",
    "        text-align: center;\n",
    "        text-shadow: 2px 2px lightgray;\n",
    "      }\n",
    "      h2 {\n",
    "        font-style: italic;\n",
    "        color: darkblue;\n",
    "        text-shadow: 1px 1px lightgray;\n",
    "      }\n",
    "      strong {\n",
    "        color: crimson;\n",
    "      }\n",
    "      table {\n",
    "        border-collapse: collapse;\n",
    "        margin: 1em auto;\n",
    "      }\n",
    "      th, td {\n",
    "        padding: 0.5em;\n",
    "        border: 1px solid darkgray;\n",
    "        text-align: left;\n",
    "      }\n",
    "      th {\n",
    "        background-color: lightgray;\n",
    "      }\n",
    "      .monument {\n",
    "        margin-left: 1em;\n",
    "        margin-bottom: 0.5em;\n",
    "        border-left: 3px solid navy;\n",
    "        padding-left: 1em;\n",
    "      }\n",
    "      .picture {\n",
    "        max-width: 100%;\n",
    "        display: block;\n",
    "        margin: 1em auto;\n",
    "      }\n",
    "    </style>\n",
    "    \n",
    "    <h1>Czech Republic</h1>\n",
    "    <p>The <strong>Czech Republic</strong> is a country located in Central Europe. It covers an area of <strong>78,870 square kilometers</strong> and has a population of approximately <strong>10.7 million people</strong>.</p>\n",
    "    \n",
    "    <h2>Government</h2>\n",
    "    <p>The Czech Republic is a parliamentary democracy with a president as its head of state and a prime minister as its head of government. The country has a multi-party system and the Parliament is composed of two chambers: the Chamber of Deputies and the Senate.</p>\n",
    "    \n",
    "    <h2>Prominent Personalities</h2>\n",
    "    <ul>\n",
    "      <li><strong>Vaclav Havel</strong> - former President and playwright</li>\n",
    "      <li><strong>Alphonse Mucha</strong> - artist and designer</li>\n",
    "      <li><strong>Franz Kafka</strong> - writer</li>\n",
    "      <li><strong>Karel Capek</strong> - writer and inventor of the word \"robot\"</li>\n",
    "    </ul>\n",
    "    \n",
    "    <h2>Natural Monuments</h2>\n",
    "    <ul>\n",
    "      <li class=\"monument\"><strong>Bohemian Switzerland National Park</strong> - a national park known for its sandstone formations and deep canyons</li>\n",
    "      <li class=\"monument\"><strong>Krkonoše National Park</strong> - a national park located in the Krkonoše Mountains</li>\n",
    "      <li class=\"monument\"><strong>Moravian Karst</strong> - a natural park with caves and underground rivers</li>\n",
    "    </ul>\n",
    "<h2>Quick Facts</h2>\n",
    "<table>\n",
    "  <thead>\n",
    "    <tr>\n",
    "      <th>Category</th>\n",
    "      <th>Fact</th>\n",
    "    </tr>\n",
    "  </thead>\n",
    "  <tbody>\n",
    "    <tr>\n",
    "      <td>Capital</td>\n",
    "      <td>Prague</td>\n",
    "    </tr>\n",
    "    <tr>\n",
    "      <td>Currency</td>\n",
    "      <td>Czech koruna (CZK)</td>\n",
    "    </tr>\n",
    "    <tr>\n",
    "      <td>Official Language</td>\n",
    "      <td>Czech</td>\n",
    "    </tr>\n",
    "    <tr>\n",
    "      <td>Time Zone</td>\n",
    "      <td>Central European Time (UTC+1)</td>\n",
    "    </tr>\n",
    "  </tbody>\n",
    "</table>\n",
    "\n",
    "<h2>Links</h2>\n",
    "<ul>\n",
    "  <li><a href=\"https://www.czechtourism.com/home/\" target=\"_blank\">Czech Tourism</a></li>\n",
    "  <li><a href=\"https://www.czech.cz/en/Home-en\" target=\"_blank\">Czech Republic - Official Website</a></li>\n",
    "</ul>\n",
    "\n",
    "<img src=\"https://upload.wikimedia.org/wikipedia/commons/thumb/c/cb/Prague_-_Charles_Bridge_%282%29.jpg/1200px-Prague_-_Charles_Bridge_%282%29.jpg\" alt=\"Charles Bridge in Prague\" class=\"picture\">\n"
   ]
  },
  {
   "cell_type": "markdown",
   "id": "00012701",
   "metadata": {},
   "source": [
    "## Cultural Monuments\n",
    "\n",
    "The Czech Republic is home to many cultural monuments. Some of the most famous include:\n",
    "\n",
    "### Cultural Monuments\n",
    "\n",
    "| Name | Description |\n",
    "| --- | --- |\n",
    "| Prague Castle | A historic castle complex in Prague |\n",
    "| Charles Bridge | A famous bridge that crosses the Vltava River in Prague |\n",
    "| Kutná Hora | A historic town known for its gothic architecture and UNESCO World Heritage Site |\n",
    "| Český Krumlov | A picturesque town in South Bohemia known for its medieval architecture and castle |\n",
    "\n",
    "## Conclusion\n",
    "\n",
    "The Czech Republic is a small country with a rich history, culture, and natural beauty. Its famous landmarks, monuments, and personalities make it a popular destination for tourists from all over the world."
   ]
  },
  {
   "cell_type": "code",
   "execution_count": 32,
   "id": "593f29ca",
   "metadata": {},
   "outputs": [
    {
     "data": {
      "text/html": [
       "<h2>Flag</h2>\n",
       " <svg viewBox=\"0 0 600 350\" style=\"stroke: black; stroke-width: 2\">\n",
       "  <rect x=\"0\" y=\"0\" width=\"600\" height=\"350\" fill=\"#D7141A\"/>\n",
       "  <rect x=\"0\" y=\"0\" width=\"600\" height=\"175\" fill=\"#FFFFFF\"/>\n",
       "  <polygon points=\"0,0 0,350 300,175\" style=\"fill: #0074D9\" />\n",
       "</svg>\n"
      ],
      "text/plain": [
       "<IPython.core.display.HTML object>"
      ]
     },
     "metadata": {},
     "output_type": "display_data"
    }
   ],
   "source": [
    "%%HTML\n",
    "<h2>Flag</h2>\n",
    " <svg viewBox=\"0 0 600 350\" style=\"stroke: black; stroke-width: 2\">\n",
    "  <rect x=\"0\" y=\"0\" width=\"600\" height=\"350\" fill=\"#D7141A\"/>\n",
    "  <rect x=\"0\" y=\"0\" width=\"600\" height=\"175\" fill=\"#FFFFFF\"/>\n",
    "  <polygon points=\"0,0 0,350 300,175\" style=\"fill: #0074D9\" />\n",
    "</svg>"
   ]
  },
  {
   "cell_type": "code",
   "execution_count": 33,
   "id": "2fb68791",
   "metadata": {},
   "outputs": [
    {
     "name": "stdout",
     "output_type": "stream",
     "text": [
      "Enter a comma-separated list of numbers: 17,28,14,13,11,5,79,29,18\n",
      "[79, 29, 17, 13, 11, 5]\n"
     ]
    }
   ],
   "source": [
    "def getArray():\n",
    "    while True:\n",
    "        input_string = input(\"Enter a comma-separated list of numbers: \")\n",
    "\n",
    "        try:\n",
    "            array = [int(x) for x in input_string.split(\",\")]\n",
    "            break\n",
    "        except ValueError:\n",
    "            print(\"Invalid input. Please try again.\")\n",
    "    return array\n",
    "        \n",
    "def is_prime(num):\n",
    "    if num <= 1:\n",
    "        return False\n",
    "    for i in range(2, int(num**0.5)+1):\n",
    "        if num % i == 0:\n",
    "            return False\n",
    "    return True\n",
    "def task_5(arr):\n",
    "    print(sorted([num for num in arr if is_prime(num)], reverse=True))\n",
    "    \n",
    "task_5(getArray())"
   ]
  },
  {
   "cell_type": "code",
   "execution_count": 29,
   "id": "7b3c3bc0",
   "metadata": {},
   "outputs": [
    {
     "name": "stdout",
     "output_type": "stream",
     "text": [
      "Enter a comma-separated list of numbers: 92, 28, 5, 35, 63, 66, 58, 91, 46, 16\n",
      "[5]\n"
     ]
    }
   ],
   "source": [
    "task_5(getArray())"
   ]
  },
  {
   "cell_type": "code",
   "execution_count": 30,
   "id": "0252d50c",
   "metadata": {},
   "outputs": [
    {
     "name": "stdout",
     "output_type": "stream",
     "text": [
      "Enter a comma-separated list of numbers: 14, 82, 33, 65, 47, 27, 88, 19, 95, 50\n",
      "[47, 19]\n"
     ]
    }
   ],
   "source": [
    "task_5(getArray())"
   ]
  },
  {
   "cell_type": "code",
   "execution_count": 35,
   "id": "f8d02c9a",
   "metadata": {},
   "outputs": [
    {
     "name": "stdout",
     "output_type": "stream",
     "text": [
      "Enter a comma-separated list of numbers: 17,28,14,13,11,5,79,29,18\n",
      "[79, 29, 17, 13, 11, 5]\n"
     ]
    }
   ],
   "source": [
    "task_5(getArray())"
   ]
  },
  {
   "cell_type": "code",
   "execution_count": null,
   "id": "2af1c38c",
   "metadata": {},
   "outputs": [],
   "source": []
  }
 ],
 "metadata": {
  "kernelspec": {
   "display_name": "Python 3 (ipykernel)",
   "language": "python",
   "name": "python3"
  },
  "language_info": {
   "codemirror_mode": {
    "name": "ipython",
    "version": 3
   },
   "file_extension": ".py",
   "mimetype": "text/x-python",
   "name": "python",
   "nbconvert_exporter": "python",
   "pygments_lexer": "ipython3",
   "version": "3.10.9"
  }
 },
 "nbformat": 4,
 "nbformat_minor": 5
}
