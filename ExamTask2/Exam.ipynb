{
 "nbformat": 4,
 "nbformat_minor": 0,
 "metadata": {
  "colab": {
   "provenance": []
  },
  "kernelspec": {
   "name": "python3",
   "language": "python",
   "display_name": "Python 3 (ipykernel)"
  },
  "language_info": {
   "name": "python"
  }
 },
 "cells": [
  {
   "cell_type": "code",
   "execution_count": 3,
   "metadata": {
    "id": "4acJ2gRuLeE6",
    "ExecuteTime": {
     "end_time": "2023-05-05T07:26:23.534893700Z",
     "start_time": "2023-05-05T07:26:21.322724400Z"
    }
   },
   "outputs": [],
   "source": [
    "import pandas as pd\n",
    "import matplotlib.pyplot as plt"
   ]
  },
  {
   "cell_type": "code",
   "source": [
    "df = pd.read_csv('Expanded_data_with_more_features.csv').dropna()"
   ],
   "metadata": {
    "id": "7utKaJkXMiwX",
    "ExecuteTime": {
     "end_time": "2023-05-05T07:42:03.561067200Z",
     "start_time": "2023-05-05T07:42:03.492787200Z"
    }
   },
   "execution_count": 21,
   "outputs": []
  },
  {
   "cell_type": "markdown",
   "source": [
    "# Task 1"
   ],
   "metadata": {
    "collapsed": false
   }
  },
  {
   "cell_type": "code",
   "execution_count": 22,
   "outputs": [
    {
     "name": "stdout",
     "output_type": "stream",
     "text": [
      "Number of male students: 9468\n",
      "Number of female students: 9775\n"
     ]
    }
   ],
   "source": [
    "gender_counts = df['Gender'].value_counts()\n",
    "\n",
    "print('Number of male students:', gender_counts['male'])\n",
    "print('Number of female students:', gender_counts['female'])"
   ],
   "metadata": {
    "collapsed": false,
    "ExecuteTime": {
     "end_time": "2023-05-05T07:42:05.832986100Z",
     "start_time": "2023-05-05T07:42:05.791199400Z"
    }
   }
  },
  {
   "cell_type": "markdown",
   "source": [
    "# Task 2,3"
   ],
   "metadata": {
    "collapsed": false
   }
  },
  {
   "cell_type": "code",
   "execution_count": 23,
   "outputs": [
    {
     "name": "stdout",
     "output_type": "stream",
     "text": [
      "Percentage of male students: 49.202307332536506\n",
      "Percentage of female students: 50.797692667463494\n"
     ]
    }
   ],
   "source": [
    "num_students = df.shape[0]\n",
    "\n",
    "male_percentage = gender_counts['male'] * 100 / num_students\n",
    "female_percentage = gender_counts['female'] * 100 / num_students\n",
    "print('Percentage of male students:', male_percentage)\n",
    "print('Percentage of female students:', female_percentage)"
   ],
   "metadata": {
    "collapsed": false,
    "ExecuteTime": {
     "end_time": "2023-05-05T07:42:08.115314500Z",
     "start_time": "2023-05-05T07:42:08.094189600Z"
    }
   }
  },
  {
   "cell_type": "markdown",
   "source": [
    "# Task 4"
   ],
   "metadata": {
    "collapsed": false
   }
  },
  {
   "cell_type": "code",
   "execution_count": 24,
   "outputs": [
    {
     "name": "stdout",
     "output_type": "stream",
     "text": [
      "The ethnic group with the highest math score is: group E\n"
     ]
    }
   ],
   "source": [
    "math_scores_by_group = df.groupby('EthnicGroup')['MathScore'].mean()\n",
    "math_scores_by_group = math_scores_by_group.sort_values(ascending=False)\n",
    "ethnic_group_with_highest_math_score = math_scores_by_group.index[0]\n",
    "\n",
    "print('The ethnic group with the highest math score is:', ethnic_group_with_highest_math_score)"
   ],
   "metadata": {
    "collapsed": false,
    "ExecuteTime": {
     "end_time": "2023-05-05T07:42:11.223297600Z",
     "start_time": "2023-05-05T07:42:11.205702500Z"
    }
   }
  },
  {
   "cell_type": "markdown",
   "source": [
    "# Task 5"
   ],
   "metadata": {
    "collapsed": false
   }
  },
  {
   "cell_type": "code",
   "execution_count": 25,
   "outputs": [
    {
     "name": "stdout",
     "output_type": "stream",
     "text": [
      "The ethnic group with the highest reading score is: group E\n"
     ]
    }
   ],
   "source": [
    "reading_scores_by_group = df.groupby('EthnicGroup')['ReadingScore'].mean()\n",
    "reading_scores_by_group = reading_scores_by_group.sort_values(ascending=False)\n",
    "ethnic_group_with_highest_reading_score = reading_scores_by_group.index[0]\n",
    "\n",
    "print('The ethnic group with the highest reading score is:', ethnic_group_with_highest_reading_score)"
   ],
   "metadata": {
    "collapsed": false,
    "ExecuteTime": {
     "end_time": "2023-05-05T07:42:13.555916200Z",
     "start_time": "2023-05-05T07:42:13.537806300Z"
    }
   }
  },
  {
   "cell_type": "markdown",
   "source": [
    "# Task 6"
   ],
   "metadata": {
    "collapsed": false
   }
  },
  {
   "cell_type": "code",
   "execution_count": 26,
   "outputs": [
    {
     "name": "stdout",
     "output_type": "stream",
     "text": [
      "The ethnic group with the highest writing score is: group E\n"
     ]
    }
   ],
   "source": [
    "writing_scores_by_group = df.groupby('EthnicGroup')['WritingScore'].mean()\n",
    "writing_scores_by_group = writing_scores_by_group.sort_values(ascending=False)\n",
    "ethnic_group_with_highest_writing_score = writing_scores_by_group.index[0]\n",
    "\n",
    "print('The ethnic group with the highest writing score is:', ethnic_group_with_highest_writing_score)"
   ],
   "metadata": {
    "collapsed": false,
    "ExecuteTime": {
     "end_time": "2023-05-05T07:42:16.455223300Z",
     "start_time": "2023-05-05T07:42:16.442117200Z"
    }
   }
  },
  {
   "cell_type": "markdown",
   "source": [
    "# Task 7, 8, 9"
   ],
   "metadata": {
    "collapsed": false
   }
  },
  {
   "cell_type": "code",
   "execution_count": 27,
   "outputs": [
    {
     "name": "stdout",
     "output_type": "stream",
     "text": [
      "The average math score of students who completed test prep is: 69.64963942307692\n",
      "The average reading score of students who completed test prep is: 73.85982572115384\n",
      "The average writing score of students who completed test prep is: 74.86298076923077\n"
     ]
    }
   ],
   "source": [
    "completed_test_prep_df = df[df['TestPrep'] == 'completed']\n",
    "mean_math_score = completed_test_prep_df['MathScore'].mean()\n",
    "mean_reading_score = completed_test_prep_df['ReadingScore'].mean()\n",
    "mean_writing_score = completed_test_prep_df['WritingScore'].mean()\n",
    "print('The average math score of students who completed test prep is:', mean_math_score)\n",
    "print('The average reading score of students who completed test prep is:', mean_reading_score)\n",
    "print('The average writing score of students who completed test prep is:', mean_writing_score)"
   ],
   "metadata": {
    "collapsed": false,
    "ExecuteTime": {
     "end_time": "2023-05-05T07:47:44.506379100Z",
     "start_time": "2023-05-05T07:47:44.494331100Z"
    }
   }
  },
  {
   "cell_type": "markdown",
   "source": [
    "# Task 10"
   ],
   "metadata": {
    "collapsed": false
   }
  },
  {
   "cell_type": "code",
   "execution_count": 31,
   "outputs": [
    {
     "name": "stdout",
     "output_type": "stream",
     "text": [
      "Amount of students with married parents:  11009\n"
     ]
    }
   ],
   "source": [
    "married_parents_df = df[df['ParentMaritalStatus'] == 'married']\n",
    "students_with_married_parents_amount = married_parents_df.shape[0]\n",
    "print('Amount of students with married parents: ', students_with_married_parents_amount)"
   ],
   "metadata": {
    "collapsed": false,
    "ExecuteTime": {
     "end_time": "2023-05-05T07:55:24.997750Z",
     "start_time": "2023-05-05T07:55:24.975612300Z"
    }
   }
  },
  {
   "cell_type": "markdown",
   "source": [
    "# Task 11"
   ],
   "metadata": {
    "collapsed": false
   }
  },
  {
   "cell_type": "code",
   "execution_count": 39,
   "outputs": [
    {
     "name": "stdout",
     "output_type": "stream",
     "text": [
      "Amount of students with single parents: 4608\n"
     ]
    }
   ],
   "source": [
    "single_parents_df = df[df['ParentMaritalStatus'] == 'single']\n",
    "students_with_single_parents_amount = single_parents_df.shape[0]\n",
    "print('Amount of students with single parents:', students_with_single_parents_amount)"
   ],
   "metadata": {
    "collapsed": false,
    "ExecuteTime": {
     "end_time": "2023-05-05T08:09:37.063181400Z",
     "start_time": "2023-05-05T08:09:37.054033600Z"
    }
   }
  },
  {
   "cell_type": "markdown",
   "source": [
    "# Task 12"
   ],
   "metadata": {
    "collapsed": false
   }
  },
  {
   "cell_type": "code",
   "execution_count": 34,
   "outputs": [
    {
     "name": "stdout",
     "output_type": "stream",
     "text": [
      "Students that practice sports regularly indeed do have better math score than those who don't\n"
     ]
    }
   ],
   "source": [
    "mean_math_score_by_sport = df.groupby('PracticeSport')['MathScore'].mean()\n",
    "\n",
    "if mean_math_score_by_sport['regularly'] > mean_math_score_by_sport['never']:\n",
    "    print('Students that practice sports regularly indeed do have better math score than those who don\\'t')\n",
    "else:\n",
    "    print('Students that practice sports regularly DON\\'t have better math score than those who don\\'t')"
   ],
   "metadata": {
    "collapsed": false,
    "ExecuteTime": {
     "end_time": "2023-05-05T08:05:48.499992900Z",
     "start_time": "2023-05-05T08:05:48.456195500Z"
    }
   }
  },
  {
   "cell_type": "markdown",
   "source": [
    "# Task 13"
   ],
   "metadata": {
    "collapsed": false
   }
  },
  {
   "cell_type": "code",
   "execution_count": 35,
   "outputs": [
    {
     "name": "stdout",
     "output_type": "stream",
     "text": [
      "Students that practice sports regularly indeed do have better reading score than those who don't\n"
     ]
    }
   ],
   "source": [
    "mean_reading_score_by_sport = df.groupby('PracticeSport')['ReadingScore'].mean()\n",
    "\n",
    "if mean_reading_score_by_sport['regularly'] > mean_reading_score_by_sport['never']:\n",
    "    print('Students that practice sports regularly indeed do have better reading score than those who don\\'t')\n",
    "else:\n",
    "    print('Students that practice sports regularly DON\\'t have better reading score than those who don\\'t')"
   ],
   "metadata": {
    "collapsed": false,
    "ExecuteTime": {
     "end_time": "2023-05-05T08:06:14.735739400Z",
     "start_time": "2023-05-05T08:06:14.692121900Z"
    }
   }
  },
  {
   "cell_type": "markdown",
   "source": [
    "# Task 14"
   ],
   "metadata": {
    "collapsed": false
   }
  },
  {
   "cell_type": "code",
   "execution_count": 38,
   "outputs": [
    {
     "name": "stdout",
     "output_type": "stream",
     "text": [
      "Amount of students who commute using school bus is: 11280\n"
     ]
    }
   ],
   "source": [
    "school_bus_students = df[df['TransportMeans'] == 'school_bus']\n",
    "\n",
    "print('Amount of students who commute using school bus is:', school_bus_students.shape[0])"
   ],
   "metadata": {
    "collapsed": false,
    "ExecuteTime": {
     "end_time": "2023-05-05T08:09:27.376384100Z",
     "start_time": "2023-05-05T08:09:27.356258500Z"
    }
   }
  },
  {
   "cell_type": "markdown",
   "source": [
    "# Task 15"
   ],
   "metadata": {
    "collapsed": false
   }
  },
  {
   "cell_type": "code",
   "execution_count": 40,
   "outputs": [
    {
     "name": "stdout",
     "output_type": "stream",
     "text": [
      "Amount of students who commute using private transport is: 7963\n"
     ]
    }
   ],
   "source": [
    "private_transport_students = df[df['TransportMeans'] == 'private']\n",
    "\n",
    "print('Amount of students who commute using private transport is:', private_transport_students.shape[0])"
   ],
   "metadata": {
    "collapsed": false,
    "ExecuteTime": {
     "end_time": "2023-05-05T08:10:55.413380100Z",
     "start_time": "2023-05-05T08:10:55.390661300Z"
    }
   }
  }
 ]
}
