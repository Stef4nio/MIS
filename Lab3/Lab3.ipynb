{
 "nbformat": 4,
 "nbformat_minor": 0,
 "metadata": {
  "colab": {
   "provenance": []
  },
  "kernelspec": {
   "name": "python3",
   "language": "python",
   "display_name": "Python 3 (ipykernel)"
  },
  "language_info": {
   "name": "python"
  }
 },
 "cells": [
  {
   "cell_type": "code",
   "execution_count": 72,
   "metadata": {
    "id": "4acJ2gRuLeE6",
    "ExecuteTime": {
     "end_time": "2023-05-01T21:53:23.443799600Z",
     "start_time": "2023-05-01T21:53:23.152342400Z"
    }
   },
   "outputs": [],
   "source": [
    "import pandas as pd\n",
    "import matplotlib.pyplot as plt"
   ]
  },
  {
   "cell_type": "markdown",
   "source": [
    "## Variant 2\n",
    "# 3, 4, 5, 8, 9, 11, 12, 13, 14, 16, 17, 18, 19, 20, 22, 23, 24, 27"
   ],
   "metadata": {
    "id": "bCXHtLOYNFGu"
   }
  },
  {
   "cell_type": "code",
   "source": [
    "df = pd.read_csv('NationalNames.csv').dropna()"
   ],
   "metadata": {
    "id": "7utKaJkXMiwX",
    "ExecuteTime": {
     "end_time": "2023-05-01T21:53:24.406471300Z",
     "start_time": "2023-05-01T21:53:23.172424200Z"
    }
   },
   "execution_count": 73,
   "outputs": []
  },
  {
   "cell_type": "markdown",
   "source": [
    "# Task 3"
   ],
   "metadata": {
    "collapsed": false
   }
  },
  {
   "cell_type": "code",
   "execution_count": 74,
   "outputs": [
    {
     "name": "stdout",
     "output_type": "stream",
     "text": [
      "['Id' 'Name' 'Year' 'Gender' 'Count']\n"
     ]
    }
   ],
   "source": [
    "names = df.columns.values\n",
    "print(names)"
   ],
   "metadata": {
    "collapsed": false,
    "ExecuteTime": {
     "end_time": "2023-05-01T21:53:24.407484500Z",
     "start_time": "2023-05-01T21:53:24.390389900Z"
    }
   }
  },
  {
   "cell_type": "markdown",
   "source": [
    "# Task 4"
   ],
   "metadata": {
    "collapsed": false
   }
  },
  {
   "cell_type": "code",
   "execution_count": 75,
   "outputs": [
    {
     "data": {
      "text/plain": "                 Id          Year         Count\ncount  1.825433e+06  1.825433e+06  1.825433e+06\nmean   9.127170e+05  1.972620e+03  1.846879e+02\nstd    5.269573e+05  3.352891e+01  1.566711e+03\nmin    1.000000e+00  1.880000e+03  5.000000e+00\n25%    4.563590e+05  1.949000e+03  7.000000e+00\n50%    9.127170e+05  1.982000e+03  1.200000e+01\n75%    1.369075e+06  2.001000e+03  3.200000e+01\nmax    1.825433e+06  2.014000e+03  9.968000e+04",
      "text/html": "<div>\n<style scoped>\n    .dataframe tbody tr th:only-of-type {\n        vertical-align: middle;\n    }\n\n    .dataframe tbody tr th {\n        vertical-align: top;\n    }\n\n    .dataframe thead th {\n        text-align: right;\n    }\n</style>\n<table border=\"1\" class=\"dataframe\">\n  <thead>\n    <tr style=\"text-align: right;\">\n      <th></th>\n      <th>Id</th>\n      <th>Year</th>\n      <th>Count</th>\n    </tr>\n  </thead>\n  <tbody>\n    <tr>\n      <th>count</th>\n      <td>1.825433e+06</td>\n      <td>1.825433e+06</td>\n      <td>1.825433e+06</td>\n    </tr>\n    <tr>\n      <th>mean</th>\n      <td>9.127170e+05</td>\n      <td>1.972620e+03</td>\n      <td>1.846879e+02</td>\n    </tr>\n    <tr>\n      <th>std</th>\n      <td>5.269573e+05</td>\n      <td>3.352891e+01</td>\n      <td>1.566711e+03</td>\n    </tr>\n    <tr>\n      <th>min</th>\n      <td>1.000000e+00</td>\n      <td>1.880000e+03</td>\n      <td>5.000000e+00</td>\n    </tr>\n    <tr>\n      <th>25%</th>\n      <td>4.563590e+05</td>\n      <td>1.949000e+03</td>\n      <td>7.000000e+00</td>\n    </tr>\n    <tr>\n      <th>50%</th>\n      <td>9.127170e+05</td>\n      <td>1.982000e+03</td>\n      <td>1.200000e+01</td>\n    </tr>\n    <tr>\n      <th>75%</th>\n      <td>1.369075e+06</td>\n      <td>2.001000e+03</td>\n      <td>3.200000e+01</td>\n    </tr>\n    <tr>\n      <th>max</th>\n      <td>1.825433e+06</td>\n      <td>2.014000e+03</td>\n      <td>9.968000e+04</td>\n    </tr>\n  </tbody>\n</table>\n</div>"
     },
     "execution_count": 75,
     "metadata": {},
     "output_type": "execute_result"
    }
   ],
   "source": [
    "df.describe()"
   ],
   "metadata": {
    "collapsed": false,
    "ExecuteTime": {
     "end_time": "2023-05-01T21:53:24.570960300Z",
     "start_time": "2023-05-01T21:53:24.406471300Z"
    }
   }
  },
  {
   "cell_type": "markdown",
   "source": [
    "# Task 5"
   ],
   "metadata": {
    "collapsed": false
   }
  },
  {
   "cell_type": "code",
   "execution_count": 76,
   "outputs": [
    {
     "data": {
      "text/plain": "93889"
     },
     "execution_count": 76,
     "metadata": {},
     "output_type": "execute_result"
    }
   ],
   "source": [
    "df['Name'].nunique()"
   ],
   "metadata": {
    "collapsed": false,
    "ExecuteTime": {
     "end_time": "2023-05-01T21:53:24.944436800Z",
     "start_time": "2023-05-01T21:53:24.574958300Z"
    }
   }
  },
  {
   "cell_type": "markdown",
   "source": [
    "# Task 8"
   ],
   "metadata": {
    "collapsed": false
   }
  },
  {
   "cell_type": "code",
   "execution_count": 77,
   "outputs": [
    {
     "name": "stdout",
     "output_type": "stream",
     "text": [
      "The name is 'Linda' in year 1947\n"
     ]
    }
   ],
   "source": [
    "def get_most_popular_name(year):\n",
    "    df_year = df[df['Year'] == year]\n",
    "    max_count = df_year['Count'].max()\n",
    "    most_popular_name = df_year[df_year['Count'] == max_count]['Name'].iloc[0]\n",
    "    return most_popular_name\n",
    "\n",
    "#year = int(input(\"Enter a year\"))\n",
    "year = 1947\n",
    "print(\"The name is '{}' in year {}\".format(get_most_popular_name(year), year))"
   ],
   "metadata": {
    "collapsed": false,
    "ExecuteTime": {
     "end_time": "2023-05-01T21:53:24.987029500Z",
     "start_time": "2023-05-01T21:53:24.947518Z"
    }
   }
  },
  {
   "cell_type": "markdown",
   "source": [
    "# Task 9"
   ],
   "metadata": {
    "collapsed": false
   }
  },
  {
   "cell_type": "code",
   "execution_count": 78,
   "outputs": [
    {
     "data": {
      "text/plain": "254615"
     },
     "execution_count": 78,
     "metadata": {},
     "output_type": "execute_result"
    }
   ],
   "source": [
    "df.query(f\"Count == {df['Count'].min()}\")['Id'].count()"
   ],
   "metadata": {
    "collapsed": false,
    "ExecuteTime": {
     "end_time": "2023-05-01T21:53:25.064413700Z",
     "start_time": "2023-05-01T21:53:24.977971900Z"
    }
   }
  },
  {
   "cell_type": "markdown",
   "source": [
    "# Task 11"
   ],
   "metadata": {
    "collapsed": false
   }
  },
  {
   "cell_type": "code",
   "execution_count": 79,
   "outputs": [
    {
     "data": {
      "text/plain": "2008"
     },
     "execution_count": 79,
     "metadata": {},
     "output_type": "execute_result"
    }
   ],
   "source": [
    "unique_names_by_year = df.groupby('Year')['Name'].nunique()\n",
    "year_with_most_unique_names = unique_names_by_year.idxmax()\n",
    "year_with_most_unique_names"
   ],
   "metadata": {
    "collapsed": false,
    "ExecuteTime": {
     "end_time": "2023-05-01T21:53:25.832571500Z",
     "start_time": "2023-05-01T21:53:25.026727200Z"
    }
   }
  },
  {
   "cell_type": "markdown",
   "source": [
    "# Task 12"
   ],
   "metadata": {
    "collapsed": false
   }
  },
  {
   "cell_type": "code",
   "execution_count": 80,
   "outputs": [
    {
     "data": {
      "text/plain": "'Jacob'"
     },
     "execution_count": 80,
     "metadata": {},
     "output_type": "execute_result"
    }
   ],
   "source": [
    "df_most_popular = df[df['Year'] == year_with_most_unique_names]\n",
    "max_count = df_most_popular['Count'].max()\n",
    "most_popular_name = df_most_popular[df_most_popular['Count'] == max_count]['Name'].iloc[0]\n",
    "most_popular_name"
   ],
   "metadata": {
    "collapsed": false,
    "ExecuteTime": {
     "end_time": "2023-05-01T21:53:25.889290300Z",
     "start_time": "2023-05-01T21:53:25.839084700Z"
    }
   }
  },
  {
   "cell_type": "markdown",
   "source": [
    "# Task 13"
   ],
   "metadata": {
    "collapsed": false
   }
  },
  {
   "cell_type": "code",
   "execution_count": 81,
   "outputs": [
    {
     "name": "stdout",
     "output_type": "stream",
     "text": [
      "              Id   Name  Year Gender  Count\n",
      "1455556  1455557  Jacob  2004      F    171\n"
     ]
    }
   ],
   "source": [
    "df_jacob_female = df[(df['Name'] == 'Jacob') & (df['Gender'] == 'F')]\n",
    "max_count_jacob_female = df_jacob_female['Count'].max()\n",
    "year_jacob_female_most_popular = df_jacob_female[df_jacob_female['Count'] == max_count_jacob_female]\n",
    "\n",
    "print(year_jacob_female_most_popular)"
   ],
   "metadata": {
    "collapsed": false,
    "ExecuteTime": {
     "end_time": "2023-05-01T21:53:26.120031Z",
     "start_time": "2023-05-01T21:53:25.876481300Z"
    }
   }
  },
  {
   "cell_type": "markdown",
   "source": [
    "# Task 14"
   ],
   "metadata": {
    "collapsed": false
   }
  },
  {
   "cell_type": "code",
   "execution_count": 82,
   "outputs": [
    {
     "data": {
      "text/plain": "Year\n2008    2557\nName: Count, dtype: int64"
     },
     "execution_count": 82,
     "metadata": {},
     "output_type": "execute_result"
    }
   ],
   "source": [
    "male_names = df[df['Gender'] == 'M'].groupby(['Year', 'Name'])['Count'].sum()\n",
    "female_names = df[df['Gender'] == 'F'].groupby(['Year', 'Name'])['Count'].sum()\n",
    "gender_neutral_names = male_names.index.intersection(female_names.index)\n",
    "male_names = male_names.loc[gender_neutral_names]\n",
    "gender_neutral_counts = male_names.groupby(level=0).count()\n",
    "gender_neutral_counts.sort_values(ascending=False).head(1)"
   ],
   "metadata": {
    "collapsed": false,
    "ExecuteTime": {
     "end_time": "2023-05-01T21:53:27.888339600Z",
     "start_time": "2023-05-01T21:53:26.109516800Z"
    }
   }
  },
  {
   "cell_type": "markdown",
   "source": [
    "# Task 16"
   ],
   "metadata": {
    "collapsed": false
   }
  },
  {
   "cell_type": "code",
   "execution_count": 83,
   "outputs": [
    {
     "data": {
      "text/plain": "Count    1957\ndtype: int64"
     },
     "execution_count": 83,
     "metadata": {},
     "output_type": "execute_result"
    }
   ],
   "source": [
    "df.groupby('Year')['Count'].sum().to_frame().idxmax()"
   ],
   "metadata": {
    "collapsed": false,
    "ExecuteTime": {
     "end_time": "2023-05-01T21:53:27.932553100Z",
     "start_time": "2023-05-01T21:53:27.890289200Z"
    }
   }
  },
  {
   "cell_type": "markdown",
   "source": [
    "# Task 17"
   ],
   "metadata": {
    "collapsed": false
   }
  },
  {
   "cell_type": "code",
   "execution_count": 84,
   "outputs": [
    {
     "data": {
      "text/plain": "               Count\nYear Gender         \n1880 F         90993\n     M        110491\n1881 F         91954\n     M        100745\n1882 F        107850\n...              ...\n2012 M       1889414\n2013 F       1745339\n     M       1881463\n2014 F       1768775\n     M       1901376\n\n[270 rows x 1 columns]",
      "text/html": "<div>\n<style scoped>\n    .dataframe tbody tr th:only-of-type {\n        vertical-align: middle;\n    }\n\n    .dataframe tbody tr th {\n        vertical-align: top;\n    }\n\n    .dataframe thead th {\n        text-align: right;\n    }\n</style>\n<table border=\"1\" class=\"dataframe\">\n  <thead>\n    <tr style=\"text-align: right;\">\n      <th></th>\n      <th></th>\n      <th>Count</th>\n    </tr>\n    <tr>\n      <th>Year</th>\n      <th>Gender</th>\n      <th></th>\n    </tr>\n  </thead>\n  <tbody>\n    <tr>\n      <th rowspan=\"2\" valign=\"top\">1880</th>\n      <th>F</th>\n      <td>90993</td>\n    </tr>\n    <tr>\n      <th>M</th>\n      <td>110491</td>\n    </tr>\n    <tr>\n      <th rowspan=\"2\" valign=\"top\">1881</th>\n      <th>F</th>\n      <td>91954</td>\n    </tr>\n    <tr>\n      <th>M</th>\n      <td>100745</td>\n    </tr>\n    <tr>\n      <th>1882</th>\n      <th>F</th>\n      <td>107850</td>\n    </tr>\n    <tr>\n      <th>...</th>\n      <th>...</th>\n      <td>...</td>\n    </tr>\n    <tr>\n      <th>2012</th>\n      <th>M</th>\n      <td>1889414</td>\n    </tr>\n    <tr>\n      <th rowspan=\"2\" valign=\"top\">2013</th>\n      <th>F</th>\n      <td>1745339</td>\n    </tr>\n    <tr>\n      <th>M</th>\n      <td>1881463</td>\n    </tr>\n    <tr>\n      <th rowspan=\"2\" valign=\"top\">2014</th>\n      <th>F</th>\n      <td>1768775</td>\n    </tr>\n    <tr>\n      <th>M</th>\n      <td>1901376</td>\n    </tr>\n  </tbody>\n</table>\n<p>270 rows × 1 columns</p>\n</div>"
     },
     "execution_count": 84,
     "metadata": {},
     "output_type": "execute_result"
    }
   ],
   "source": [
    "df.groupby(['Year', 'Gender'])['Count'].sum().to_frame()"
   ],
   "metadata": {
    "collapsed": false,
    "ExecuteTime": {
     "end_time": "2023-05-01T21:53:28.072603500Z",
     "start_time": "2023-05-01T21:53:27.936058100Z"
    }
   }
  },
  {
   "cell_type": "markdown",
   "source": [
    "# Task 18"
   ],
   "metadata": {
    "collapsed": false
   }
  },
  {
   "cell_type": "code",
   "execution_count": 85,
   "outputs": [
    {
     "data": {
      "text/plain": "54"
     },
     "execution_count": 85,
     "metadata": {},
     "output_type": "execute_result"
    }
   ],
   "source": [
    "year_to_male = df.query('Gender == \"M\"').groupby('Year')['Count'].sum()\n",
    "year_to_female = df.query('Gender == \"F\"').groupby('Year')['Count'].sum()\n",
    "(year_to_female > year_to_male).sum()"
   ],
   "metadata": {
    "collapsed": false,
    "ExecuteTime": {
     "end_time": "2023-05-01T21:53:28.322424Z",
     "start_time": "2023-05-01T21:53:28.079147700Z"
    }
   }
  },
  {
   "cell_type": "markdown",
   "source": [
    "# Task 19"
   ],
   "metadata": {
    "collapsed": false
   }
  },
  {
   "cell_type": "code",
   "execution_count": 86,
   "outputs": [
    {
     "data": {
      "text/plain": "<Figure size 640x480 with 1 Axes>",
      "image/png": "[encoded data removed]"
     },
     "metadata": {},
     "output_type": "display_data"
    }
   ],
   "source": [
    "grouped = df.groupby(['Year', 'Gender'])['Count'].sum()\n",
    "reshaped = grouped.unstack()\n",
    "reshaped.plot()\n",
    "\n",
    "plt.xlabel('Year')\n",
    "plt.ylabel('Births')\n",
    "plt.title('Birth Rate by Gender')\n",
    "\n",
    "plt.show()"
   ],
   "metadata": {
    "collapsed": false,
    "ExecuteTime": {
     "end_time": "2023-05-01T21:53:28.851625200Z",
     "start_time": "2023-05-01T21:53:28.322424Z"
    }
   }
  },
  {
   "cell_type": "markdown",
   "source": [
    "# Task 20"
   ],
   "metadata": {
    "collapsed": false
   }
  },
  {
   "cell_type": "code",
   "execution_count": 87,
   "outputs": [
    {
     "data": {
      "text/plain": "10221"
     },
     "execution_count": 87,
     "metadata": {},
     "output_type": "execute_result"
    }
   ],
   "source": [
    "male = df.query('Gender == \"M\"')['Name'].drop_duplicates()\n",
    "female = df.query('Gender == \"F\"')['Name'].drop_duplicates()\n",
    "male.isin(female).sum()"
   ],
   "metadata": {
    "collapsed": false,
    "ExecuteTime": {
     "end_time": "2023-05-01T21:53:29.480395200Z",
     "start_time": "2023-05-01T21:53:28.849626600Z"
    }
   }
  },
  {
   "cell_type": "markdown",
   "source": [
    "# Task 22"
   ],
   "metadata": {
    "collapsed": false
   }
  },
  {
   "cell_type": "code",
   "execution_count": 88,
   "outputs": [
    {
     "data": {
      "text/plain": "134"
     },
     "execution_count": 88,
     "metadata": {},
     "output_type": "execute_result"
    }
   ],
   "source": [
    "df['Year'].max() - df['Year'].min()"
   ],
   "metadata": {
    "collapsed": false,
    "ExecuteTime": {
     "end_time": "2023-05-01T21:53:29.495021300Z",
     "start_time": "2023-05-01T21:53:29.465314500Z"
    }
   }
  },
  {
   "cell_type": "markdown",
   "source": [
    "# Task 23"
   ],
   "metadata": {
    "collapsed": false
   }
  },
  {
   "cell_type": "code",
   "execution_count": 89,
   "outputs": [
    {
     "data": {
      "text/plain": "         Count\nName          \nLinda    99680\nJames    94755\nMichael  92709\nRobert   91642\nJohn     88318\n...        ...\nPrice       64\nNevada      60\nAra         55\nLevy        54\nSena        48\n\n[823 rows x 1 columns]",
      "text/html": "<div>\n<style scoped>\n    .dataframe tbody tr th:only-of-type {\n        vertical-align: middle;\n    }\n\n    .dataframe tbody tr th {\n        vertical-align: top;\n    }\n\n    .dataframe thead th {\n        text-align: right;\n    }\n</style>\n<table border=\"1\" class=\"dataframe\">\n  <thead>\n    <tr style=\"text-align: right;\">\n      <th></th>\n      <th>Count</th>\n    </tr>\n    <tr>\n      <th>Name</th>\n      <th></th>\n    </tr>\n  </thead>\n  <tbody>\n    <tr>\n      <th>Linda</th>\n      <td>99680</td>\n    </tr>\n    <tr>\n      <th>James</th>\n      <td>94755</td>\n    </tr>\n    <tr>\n      <th>Michael</th>\n      <td>92709</td>\n    </tr>\n    <tr>\n      <th>Robert</th>\n      <td>91642</td>\n    </tr>\n    <tr>\n      <th>John</th>\n      <td>88318</td>\n    </tr>\n    <tr>\n      <th>...</th>\n      <td>...</td>\n    </tr>\n    <tr>\n      <th>Price</th>\n      <td>64</td>\n    </tr>\n    <tr>\n      <th>Nevada</th>\n      <td>60</td>\n    </tr>\n    <tr>\n      <th>Ara</th>\n      <td>55</td>\n    </tr>\n    <tr>\n      <th>Levy</th>\n      <td>54</td>\n    </tr>\n    <tr>\n      <th>Sena</th>\n      <td>48</td>\n    </tr>\n  </tbody>\n</table>\n<p>823 rows × 1 columns</p>\n</div>"
     },
     "execution_count": 89,
     "metadata": {},
     "output_type": "execute_result"
    }
   ],
   "source": [
    "male = df.query('Gender == \"M\"')['Name'].drop_duplicates()\n",
    "female = df.query('Gender == \"F\"')['Name'].drop_duplicates()\n",
    "nosex_names = male[male.isin(female)]\n",
    "years_count = df.Year.unique().size\n",
    "df[df.Name.isin(nosex_names)].groupby('Name').filter(lambda d: d['Year'].unique().size == years_count).groupby('Name')['Count'].max().sort_values(ascending=False).to_frame()"
   ],
   "metadata": {
    "collapsed": false,
    "ExecuteTime": {
     "end_time": "2023-05-01T21:53:32.290557700Z",
     "start_time": "2023-05-01T21:53:29.481397300Z"
    }
   }
  },
  {
   "cell_type": "markdown",
   "source": [
    "# Task 24"
   ],
   "metadata": {
    "collapsed": false
   }
  },
  {
   "cell_type": "code",
   "execution_count": 90,
   "outputs": [
    {
     "name": "stdout",
     "output_type": "stream",
     "text": [
      "The most popular name of unpopular names is Celester. It was used 160 times\n"
     ]
    }
   ],
   "source": [
    "unpopular_names = df[df['Count'] == df['Count'].min()]\n",
    "grouped = unpopular_names.groupby('Name')['Count'].sum()\n",
    "most_popular = grouped.idxmax()\n",
    "most_popular_count = grouped.loc[grouped.idxmax()]\n",
    "\n",
    "print('The most popular name of unpopular names is {}. It was used {} times'.format(most_popular, most_popular_count))"
   ],
   "metadata": {
    "collapsed": false,
    "ExecuteTime": {
     "end_time": "2023-05-01T21:53:32.506850500Z",
     "start_time": "2023-05-01T21:53:32.297134500Z"
    }
   }
  },
  {
   "cell_type": "markdown",
   "source": [
    "# Task 27"
   ],
   "metadata": {
    "collapsed": false
   }
  },
  {
   "cell_type": "code",
   "execution_count": 91,
   "outputs": [
    {
     "data": {
      "text/plain": "     Year      Name  Count\n0    1880      John   9655\n1    1881      John   8769\n2    1882      John   9557\n3    1883      John   8894\n4    1884      John   9388\n..    ...       ...    ...\n130  2010  Isabella  22883\n131  2011    Sophia  21816\n132  2012    Sophia  22267\n133  2013    Sophia  21147\n134  2014      Emma  20799\n\n[135 rows x 3 columns]",
      "text/html": "<div>\n<style scoped>\n    .dataframe tbody tr th:only-of-type {\n        vertical-align: middle;\n    }\n\n    .dataframe tbody tr th {\n        vertical-align: top;\n    }\n\n    .dataframe thead th {\n        text-align: right;\n    }\n</style>\n<table border=\"1\" class=\"dataframe\">\n  <thead>\n    <tr style=\"text-align: right;\">\n      <th></th>\n      <th>Year</th>\n      <th>Name</th>\n      <th>Count</th>\n    </tr>\n  </thead>\n  <tbody>\n    <tr>\n      <th>0</th>\n      <td>1880</td>\n      <td>John</td>\n      <td>9655</td>\n    </tr>\n    <tr>\n      <th>1</th>\n      <td>1881</td>\n      <td>John</td>\n      <td>8769</td>\n    </tr>\n    <tr>\n      <th>2</th>\n      <td>1882</td>\n      <td>John</td>\n      <td>9557</td>\n    </tr>\n    <tr>\n      <th>3</th>\n      <td>1883</td>\n      <td>John</td>\n      <td>8894</td>\n    </tr>\n    <tr>\n      <th>4</th>\n      <td>1884</td>\n      <td>John</td>\n      <td>9388</td>\n    </tr>\n    <tr>\n      <th>...</th>\n      <td>...</td>\n      <td>...</td>\n      <td>...</td>\n    </tr>\n    <tr>\n      <th>130</th>\n      <td>2010</td>\n      <td>Isabella</td>\n      <td>22883</td>\n    </tr>\n    <tr>\n      <th>131</th>\n      <td>2011</td>\n      <td>Sophia</td>\n      <td>21816</td>\n    </tr>\n    <tr>\n      <th>132</th>\n      <td>2012</td>\n      <td>Sophia</td>\n      <td>22267</td>\n    </tr>\n    <tr>\n      <th>133</th>\n      <td>2013</td>\n      <td>Sophia</td>\n      <td>21147</td>\n    </tr>\n    <tr>\n      <th>134</th>\n      <td>2014</td>\n      <td>Emma</td>\n      <td>20799</td>\n    </tr>\n  </tbody>\n</table>\n<p>135 rows × 3 columns</p>\n</div>"
     },
     "execution_count": 91,
     "metadata": {},
     "output_type": "execute_result"
    }
   ],
   "source": [
    "df.groupby(['Year']).apply(lambda d: d[d.Count == d.Count.max()].iloc[0][['Name', 'Count']]).reset_index()"
   ],
   "metadata": {
    "collapsed": false,
    "ExecuteTime": {
     "end_time": "2023-05-01T21:53:32.922342700Z",
     "start_time": "2023-05-01T21:53:32.490789900Z"
    }
   }
  }
 ]
}
