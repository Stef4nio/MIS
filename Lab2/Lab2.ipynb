{
 "cells": [
  {
   "cell_type": "markdown",
   "id": "68018eb3",
   "metadata": {},
   "source": [
    "# Variant 9"
   ]
  },
  {
   "cell_type": "markdown",
   "id": "6ea21839",
   "metadata": {},
   "source": [
    "1. Вводиться число n. Вивести масив розміру n×n, в\n",
    "якому по діагоналі йдуть числа від 1 до n, а інші числа дорівнюють 0."
   ]
  },
  {
   "cell_type": "code",
   "execution_count": 69,
   "id": "34f310f9",
   "metadata": {},
   "outputs": [
    {
     "name": "stdout",
     "output_type": "stream",
     "text": [
      "Enter size of matrix: 11\n",
      "[[ 1.  0.  0.  0.  0.  0.  0.  0.  0.  0.  0.]\n",
      " [ 0.  2.  0.  0.  0.  0.  0.  0.  0.  0.  0.]\n",
      " [ 0.  0.  3.  0.  0.  0.  0.  0.  0.  0.  0.]\n",
      " [ 0.  0.  0.  4.  0.  0.  0.  0.  0.  0.  0.]\n",
      " [ 0.  0.  0.  0.  5.  0.  0.  0.  0.  0.  0.]\n",
      " [ 0.  0.  0.  0.  0.  6.  0.  0.  0.  0.  0.]\n",
      " [ 0.  0.  0.  0.  0.  0.  7.  0.  0.  0.  0.]\n",
      " [ 0.  0.  0.  0.  0.  0.  0.  8.  0.  0.  0.]\n",
      " [ 0.  0.  0.  0.  0.  0.  0.  0.  9.  0.  0.]\n",
      " [ 0.  0.  0.  0.  0.  0.  0.  0.  0. 10.  0.]\n",
      " [ 0.  0.  0.  0.  0.  0.  0.  0.  0.  0. 11.]]\n",
      "1 0 0 0 0 0 0 0 0 0 0 \n",
      "0 2 0 0 0 0 0 0 0 0 0 \n",
      "0 0 3 0 0 0 0 0 0 0 0 \n",
      "0 0 0 4 0 0 0 0 0 0 0 \n",
      "0 0 0 0 5 0 0 0 0 0 0 \n",
      "0 0 0 0 0 6 0 0 0 0 0 \n",
      "0 0 0 0 0 0 7 0 0 0 0 \n",
      "0 0 0 0 0 0 0 8 0 0 0 \n",
      "0 0 0 0 0 0 0 0 9 0 0 \n",
      "0 0 0 0 0 0 0 0 0 10 0 \n",
      "0 0 0 0 0 0 0 0 0 0 11 \n",
      "26.2 ns ± 0.539 ns per loop (mean ± std. dev. of 7 runs, 10,000,000 loops each)\n",
      "25.9 ns ± 0.0734 ns per loop (mean ± std. dev. of 7 runs, 10,000,000 loops each)\n"
     ]
    }
   ],
   "source": [
    "import numpy as np\n",
    "n = int(input(\"Enter size of matrix: \"))\n",
    "def t1np():\n",
    "    matrix = np.zeros((n, n))\n",
    "    for i in range(n):\n",
    "        matrix[i][i] = i+1\n",
    "\n",
    "    print(matrix)\n",
    "\n",
    "def t1py():\n",
    "    matrix = [[0 for i in range(n)] for j in range(n)]\n",
    "    for i in range(n):\n",
    "        matrix[i][i] = i + 1\n",
    "\n",
    "    for i in range(n):\n",
    "        for j in range(n):\n",
    "            print(matrix[i][j], end=\" \")\n",
    "        print()\n",
    "        \n",
    "t1np()\n",
    "t1py()\n",
    "%timeit t1np\n",
    "%timeit t1py"
   ]
  },
  {
   "cell_type": "markdown",
   "id": "8f4f3116",
   "metadata": {},
   "source": [
    "2. Вводиться число n. Розставити 1 та 0 у шаховому\n",
    "порядку, починаючи з 1 в матриці розміром n×n, використовуючи\n",
    "слайсінг."
   ]
  },
  {
   "cell_type": "code",
   "execution_count": 70,
   "id": "f84b5c0a",
   "metadata": {
    "scrolled": true
   },
   "outputs": [
    {
     "name": "stdout",
     "output_type": "stream",
     "text": [
      "Enter size of matrix: 13\n",
      "[[1. 0. 1. 0. 1. 0. 1. 0. 1. 0. 1. 0. 1.]\n",
      " [0. 1. 0. 1. 0. 1. 0. 1. 0. 1. 0. 1. 0.]\n",
      " [1. 0. 1. 0. 1. 0. 1. 0. 1. 0. 1. 0. 1.]\n",
      " [0. 1. 0. 1. 0. 1. 0. 1. 0. 1. 0. 1. 0.]\n",
      " [1. 0. 1. 0. 1. 0. 1. 0. 1. 0. 1. 0. 1.]\n",
      " [0. 1. 0. 1. 0. 1. 0. 1. 0. 1. 0. 1. 0.]\n",
      " [1. 0. 1. 0. 1. 0. 1. 0. 1. 0. 1. 0. 1.]\n",
      " [0. 1. 0. 1. 0. 1. 0. 1. 0. 1. 0. 1. 0.]\n",
      " [1. 0. 1. 0. 1. 0. 1. 0. 1. 0. 1. 0. 1.]\n",
      " [0. 1. 0. 1. 0. 1. 0. 1. 0. 1. 0. 1. 0.]\n",
      " [1. 0. 1. 0. 1. 0. 1. 0. 1. 0. 1. 0. 1.]\n",
      " [0. 1. 0. 1. 0. 1. 0. 1. 0. 1. 0. 1. 0.]\n",
      " [1. 0. 1. 0. 1. 0. 1. 0. 1. 0. 1. 0. 1.]]\n",
      "1 0 1 0 1 0 1 0 1 0 1 0 1 \n",
      "0 1 0 1 0 1 0 1 0 1 0 1 0 \n",
      "1 0 1 0 1 0 1 0 1 0 1 0 1 \n",
      "0 1 0 1 0 1 0 1 0 1 0 1 0 \n",
      "1 0 1 0 1 0 1 0 1 0 1 0 1 \n",
      "0 1 0 1 0 1 0 1 0 1 0 1 0 \n",
      "1 0 1 0 1 0 1 0 1 0 1 0 1 \n",
      "0 1 0 1 0 1 0 1 0 1 0 1 0 \n",
      "1 0 1 0 1 0 1 0 1 0 1 0 1 \n",
      "0 1 0 1 0 1 0 1 0 1 0 1 0 \n",
      "1 0 1 0 1 0 1 0 1 0 1 0 1 \n",
      "0 1 0 1 0 1 0 1 0 1 0 1 0 \n",
      "1 0 1 0 1 0 1 0 1 0 1 0 1 \n",
      "26.4 ns ± 0.526 ns per loop (mean ± std. dev. of 7 runs, 10,000,000 loops each)\n",
      "26 ns ± 0.149 ns per loop (mean ± std. dev. of 7 runs, 10,000,000 loops each)\n"
     ]
    }
   ],
   "source": [
    "n = int(input(\"Enter size of matrix: \"))\n",
    "def t2np():\n",
    "    matrix = np.zeros((n, n))\n",
    "    for i in range(n):\n",
    "        for j in range(n):\n",
    "            if (i+j) % 2 == 0:\n",
    "                matrix[i][j] = 1\n",
    "\n",
    "    print(matrix)\n",
    "\n",
    "def t2py():\n",
    "    matrix = [[0 for j in range(n)] for i in range(n)]\n",
    "\n",
    "    for i in range(n):\n",
    "        for j in range(n):\n",
    "            if (i+j) % 2 == 0:\n",
    "                matrix[i][j] = 1\n",
    "\n",
    "    for i in range(n):\n",
    "        for j in range(n):\n",
    "            print(matrix[i][j], end=\" \")\n",
    "        print()\n",
    "        \n",
    "t2np()\n",
    "t2py()\n",
    "%timeit t2np\n",
    "%timeit t2py"
   ]
  },
  {
   "cell_type": "markdown",
   "id": "bd3ab4aa",
   "metadata": {},
   "source": [
    "4. Вводяться числа n і m. Вивести масив розміру n×m, в\n",
    "якому у першому рядку (рядок з нулевим індексом) йдуть числа від 0\n",
    "до m–1, а всі інші елементи матриці дорівнюють 0."
   ]
  },
  {
   "cell_type": "code",
   "execution_count": 75,
   "id": "85d5e4e7",
   "metadata": {},
   "outputs": [
    {
     "name": "stdout",
     "output_type": "stream",
     "text": [
      "Enter number of rows: 13\n",
      "Enter number of columns: 15\n",
      "[[ 0.  1.  2.  3.  4.  5.  6.  7.  8.  9. 10. 11. 12. 13. 14.]\n",
      " [ 0.  0.  0.  0.  0.  0.  0.  0.  0.  0.  0.  0.  0.  0.  0.]\n",
      " [ 0.  0.  0.  0.  0.  0.  0.  0.  0.  0.  0.  0.  0.  0.  0.]\n",
      " [ 0.  0.  0.  0.  0.  0.  0.  0.  0.  0.  0.  0.  0.  0.  0.]\n",
      " [ 0.  0.  0.  0.  0.  0.  0.  0.  0.  0.  0.  0.  0.  0.  0.]\n",
      " [ 0.  0.  0.  0.  0.  0.  0.  0.  0.  0.  0.  0.  0.  0.  0.]\n",
      " [ 0.  0.  0.  0.  0.  0.  0.  0.  0.  0.  0.  0.  0.  0.  0.]\n",
      " [ 0.  0.  0.  0.  0.  0.  0.  0.  0.  0.  0.  0.  0.  0.  0.]\n",
      " [ 0.  0.  0.  0.  0.  0.  0.  0.  0.  0.  0.  0.  0.  0.  0.]\n",
      " [ 0.  0.  0.  0.  0.  0.  0.  0.  0.  0.  0.  0.  0.  0.  0.]\n",
      " [ 0.  0.  0.  0.  0.  0.  0.  0.  0.  0.  0.  0.  0.  0.  0.]\n",
      " [ 0.  0.  0.  0.  0.  0.  0.  0.  0.  0.  0.  0.  0.  0.  0.]\n",
      " [ 0.  0.  0.  0.  0.  0.  0.  0.  0.  0.  0.  0.  0.  0.  0.]]\n",
      "0 1 2 3 4 5 6 7 8 9 10 11 12 \n",
      "0 0 0 0 0 0 0 0 0 0 0 0 0 \n",
      "0 0 0 0 0 0 0 0 0 0 0 0 0 \n",
      "0 0 0 0 0 0 0 0 0 0 0 0 0 \n",
      "0 0 0 0 0 0 0 0 0 0 0 0 0 \n",
      "0 0 0 0 0 0 0 0 0 0 0 0 0 \n",
      "0 0 0 0 0 0 0 0 0 0 0 0 0 \n",
      "0 0 0 0 0 0 0 0 0 0 0 0 0 \n",
      "0 0 0 0 0 0 0 0 0 0 0 0 0 \n",
      "0 0 0 0 0 0 0 0 0 0 0 0 0 \n",
      "0 0 0 0 0 0 0 0 0 0 0 0 0 \n",
      "0 0 0 0 0 0 0 0 0 0 0 0 0 \n",
      "0 0 0 0 0 0 0 0 0 0 0 0 0 \n",
      "28 ns ± 0.372 ns per loop (mean ± std. dev. of 7 runs, 10,000,000 loops each)\n",
      "26.3 ns ± 0.344 ns per loop (mean ± std. dev. of 7 runs, 10,000,000 loops each)\n"
     ]
    }
   ],
   "source": [
    "n = int(input(\"Enter number of rows: \"))\n",
    "m = int(input(\"Enter number of columns: \"))\n",
    "\n",
    "def t4np():\n",
    "    matrix = np.zeros((n, m))\n",
    "    matrix[0] = np.arange(m)\n",
    "\n",
    "    print(matrix)\n",
    "\n",
    "def t4py():\n",
    "    matrix = []\n",
    "    for i in range(n):\n",
    "        row = []\n",
    "        for j in range(m):\n",
    "            row.append(0)\n",
    "        matrix.append(row)\n",
    "    \n",
    "    for j in range(m):\n",
    "        matrix[0][j] = j\n",
    "\n",
    "    for i in range(n):\n",
    "        for j in range(n):\n",
    "            print(matrix[i][j], end=\" \")\n",
    "        print()\n",
    "        \n",
    "t4np()\n",
    "t4py()\n",
    "%timeit t4np\n",
    "%timeit t4py"
   ]
  },
  {
   "cell_type": "markdown",
   "id": "6176529e",
   "metadata": {},
   "source": [
    "7. З клавіатури вводиться масив. Замінити всі нульові\n",
    "елементи на –1."
   ]
  },
  {
   "cell_type": "code",
   "execution_count": 40,
   "id": "01741d35",
   "metadata": {},
   "outputs": [
    {
     "name": "stdout",
     "output_type": "stream",
     "text": [
      "Enter array of numbers separated by spaces: 10 -8 55 48 -97 42 51 87 -36\n",
      "[ 10  -8  55  48 -97  42  51  87 -36]\n",
      "[ 10  -8  55  48 -97  42  51  87 -36]\n",
      "26 ns ± 0.0859 ns per loop (mean ± std. dev. of 7 runs, 10,000,000 loops each)\n",
      "29.8 ns ± 0.158 ns per loop (mean ± std. dev. of 7 runs, 10,000,000 loops each)\n"
     ]
    }
   ],
   "source": [
    "input_arr = np.array(input(\"Enter array of numbers separated by spaces: \").split(), dtype=np.int32)\n",
    "\n",
    "def t7np():\n",
    "    arr = input_arr\n",
    "    arr[arr == 0] = -1\n",
    "\n",
    "    print(arr)\n",
    "\n",
    "def t7py():\n",
    "    arr = input_arr\n",
    "\n",
    "    for i in range(len(arr)):\n",
    "        if arr[i] == 0:\n",
    "            arr[i] = -1\n",
    "\n",
    "    print(arr)\n",
    "    \n",
    "t7np()\n",
    "t7py()\n",
    "%timeit t7np\n",
    "%timeit t7py"
   ]
  },
  {
   "cell_type": "markdown",
   "id": "0a2c1d29",
   "metadata": {},
   "source": [
    "8. З клавіатури вводиться масив. Підрахувати в ньому\n",
    "кількість нульових та ненульових елементів."
   ]
  },
  {
   "cell_type": "code",
   "execution_count": 45,
   "id": "f4b8c28f",
   "metadata": {},
   "outputs": [
    {
     "name": "stdout",
     "output_type": "stream",
     "text": [
      "Enter an array of numbers: 1 0 1 0 10 22 55 33 0 0 0\n",
      "Number of zeros: 5\n",
      "Number of non-zeros: 6\n",
      "Number of zeros:  5\n",
      "Number of non-zeros:  6\n",
      "28.1 ns ± 0.335 ns per loop (mean ± std. dev. of 7 runs, 10,000,000 loops each)\n",
      "26 ns ± 0.396 ns per loop (mean ± std. dev. of 7 runs, 10,000,000 loops each)\n"
     ]
    }
   ],
   "source": [
    "arr = input(\"Enter an array of numbers: \").split()\n",
    "\n",
    "def t8np():\n",
    "    ndarr = np.array(arr, dtype=int)\n",
    "    num_non_zeros = np.count_nonzero(ndarr)\n",
    "    num_zeros = ndarr.size - num_non_zeros\n",
    "\n",
    "    print(\"Number of zeros:\", num_zeros)\n",
    "    print(\"Number of non-zeros:\", num_non_zeros)\n",
    "\n",
    "def t8py():\n",
    "    array = arr\n",
    "    count_zeros = 0\n",
    "    count_non_zeros = 0\n",
    "    \n",
    "    for num in array:\n",
    "        num = int(num)\n",
    "\n",
    "        if num == 0:\n",
    "            count_zeros += 1\n",
    "        else:\n",
    "            count_non_zeros += 1\n",
    "\n",
    "    print(\"Number of zeros: \", count_zeros)\n",
    "    print(\"Number of non-zeros: \", count_non_zeros)\n",
    "    \n",
    "t8np()\n",
    "t8py()\n",
    "%timeit t8np\n",
    "%timeit t8py"
   ]
  },
  {
   "cell_type": "markdown",
   "id": "1518688f",
   "metadata": {},
   "source": [
    "12. Створити масив одиниць розміром n×n та створити в\n",
    "ньому «рамку», що утворюється з 0."
   ]
  },
  {
   "cell_type": "code",
   "execution_count": 46,
   "id": "39033198",
   "metadata": {},
   "outputs": [
    {
     "name": "stdout",
     "output_type": "stream",
     "text": [
      "Enter size of matrix: 11\n",
      "[[0. 0. 0. 0. 0. 0. 0. 0. 0. 0. 0.]\n",
      " [0. 1. 1. 1. 1. 1. 1. 1. 1. 1. 0.]\n",
      " [0. 1. 1. 1. 1. 1. 1. 1. 1. 1. 0.]\n",
      " [0. 1. 1. 1. 1. 1. 1. 1. 1. 1. 0.]\n",
      " [0. 1. 1. 1. 1. 1. 1. 1. 1. 1. 0.]\n",
      " [0. 1. 1. 1. 1. 1. 1. 1. 1. 1. 0.]\n",
      " [0. 1. 1. 1. 1. 1. 1. 1. 1. 1. 0.]\n",
      " [0. 1. 1. 1. 1. 1. 1. 1. 1. 1. 0.]\n",
      " [0. 1. 1. 1. 1. 1. 1. 1. 1. 1. 0.]\n",
      " [0. 1. 1. 1. 1. 1. 1. 1. 1. 1. 0.]\n",
      " [0. 0. 0. 0. 0. 0. 0. 0. 0. 0. 0.]]\n",
      "0 0 0 0 0 0 0 0 0 0 0 \n",
      "0 1 1 1 1 1 1 1 1 1 0 \n",
      "0 1 1 1 1 1 1 1 1 1 0 \n",
      "0 1 1 1 1 1 1 1 1 1 0 \n",
      "0 1 1 1 1 1 1 1 1 1 0 \n",
      "0 1 1 1 1 1 1 1 1 1 0 \n",
      "0 1 1 1 1 1 1 1 1 1 0 \n",
      "0 1 1 1 1 1 1 1 1 1 0 \n",
      "0 1 1 1 1 1 1 1 1 1 0 \n",
      "0 1 1 1 1 1 1 1 1 1 0 \n",
      "0 0 0 0 0 0 0 0 0 0 0 \n",
      "25.9 ns ± 0.175 ns per loop (mean ± std. dev. of 7 runs, 10,000,000 loops each)\n",
      "25.8 ns ± 0.168 ns per loop (mean ± std. dev. of 7 runs, 10,000,000 loops each)\n"
     ]
    }
   ],
   "source": [
    "n = int(input(\"Enter size of matrix: \"))\n",
    "\n",
    "def t12np():\n",
    "    arr = np.ones((n, n))\n",
    "    arr[0,:] = 0\n",
    "    arr[-1,:] = 0\n",
    "    arr[:,0] = 0\n",
    "    arr[:,-1] = 0\n",
    "    print(arr)\n",
    "\n",
    "def t12py():\n",
    "    array = []\n",
    "    for i in range(n):\n",
    "        row = []\n",
    "        for j in range(n):\n",
    "            row.append(1)\n",
    "        array.append(row)\n",
    "\n",
    "    for i in range(n):\n",
    "        for j in range(n):\n",
    "            if i == 0 or i == n-1 or j == 0 or j == n-1:\n",
    "                array[i][j] = 0\n",
    "\n",
    "    for i in range(n):\n",
    "        for j in range(n):\n",
    "            print(array[i][j], end=\" \")\n",
    "        print()      \n",
    "\n",
    "t12np()\n",
    "t12py()\n",
    "%timeit t12np\n",
    "%timeit t12py"
   ]
  },
  {
   "cell_type": "markdown",
   "id": "1c047273",
   "metadata": {},
   "source": [
    "15. Заповнити парні стовпчикі матриці розміром n×n\n",
    "одиницями, а непарні – нулями."
   ]
  },
  {
   "cell_type": "code",
   "execution_count": 47,
   "id": "0b67feea",
   "metadata": {},
   "outputs": [
    {
     "name": "stdout",
     "output_type": "stream",
     "text": [
      "Enter size of matrix: 10\n",
      "[[0 1 0 1 0 1 0 1 0 1]\n",
      " [0 1 0 1 0 1 0 1 0 1]\n",
      " [0 1 0 1 0 1 0 1 0 1]\n",
      " [0 1 0 1 0 1 0 1 0 1]\n",
      " [0 1 0 1 0 1 0 1 0 1]\n",
      " [0 1 0 1 0 1 0 1 0 1]\n",
      " [0 1 0 1 0 1 0 1 0 1]\n",
      " [0 1 0 1 0 1 0 1 0 1]\n",
      " [0 1 0 1 0 1 0 1 0 1]\n",
      " [0 1 0 1 0 1 0 1 0 1]]\n",
      "1 0 1 0 1 0 1 0 1 0 \n",
      "1 0 1 0 1 0 1 0 1 0 \n",
      "1 0 1 0 1 0 1 0 1 0 \n",
      "1 0 1 0 1 0 1 0 1 0 \n",
      "1 0 1 0 1 0 1 0 1 0 \n",
      "1 0 1 0 1 0 1 0 1 0 \n",
      "1 0 1 0 1 0 1 0 1 0 \n",
      "1 0 1 0 1 0 1 0 1 0 \n",
      "1 0 1 0 1 0 1 0 1 0 \n",
      "1 0 1 0 1 0 1 0 1 0 \n",
      "25.9 ns ± 0.182 ns per loop (mean ± std. dev. of 7 runs, 10,000,000 loops each)\n",
      "26.2 ns ± 0.676 ns per loop (mean ± std. dev. of 7 runs, 10,000,000 loops each)\n"
     ]
    }
   ],
   "source": [
    "n = int(input(\"Enter size of matrix: \"))\n",
    "\n",
    "def t15np():\n",
    "    arr = np.zeros((n, n), dtype=int)\n",
    "    for i in range(n):\n",
    "        if i % 2 == 1:\n",
    "            arr[:,i] = 1\n",
    "\n",
    "    print(arr)\n",
    "\n",
    "def t15py():\n",
    "    arr = []\n",
    "    for i in range(n):\n",
    "        row = []\n",
    "        for j in range(n):\n",
    "            row.append(0)\n",
    "        arr.append(row)\n",
    "\n",
    "    for i in range(n):\n",
    "        for j in range(n):\n",
    "            if j % 2 == 0:\n",
    "                arr[i][j] = 1\n",
    "            else:\n",
    "                arr[i][j] = 0\n",
    "\n",
    "    for i in range(n):\n",
    "        for j in range(n):\n",
    "            print(arr[i][j], end=\" \")\n",
    "        print()\n",
    "        \n",
    "t15np()\n",
    "t15py()\n",
    "%timeit t15np\n",
    "%timeit t15py"
   ]
  },
  {
   "cell_type": "markdown",
   "id": "f7257c39",
   "metadata": {},
   "source": [
    "16. Заповнити вектор значеннями від 0 до n. Всі значення,\n",
    "що більші за n/4 та менші за 3n/4 замінити нулями."
   ]
  },
  {
   "cell_type": "code",
   "execution_count": 15,
   "id": "208616a5",
   "metadata": {},
   "outputs": [
    {
     "name": "stdout",
     "output_type": "stream",
     "text": [
      "Enter value for n: 15\n",
      "[ 0  1  2  3  0  0  0  0  0  0  0  0 12 13 14 15]\n",
      "[0, 1, 2, 3, 0, 0, 0, 0, 0, 0, 0, 0, 12, 13, 14]\n"
     ]
    }
   ],
   "source": [
    "n = int(input(\"Enter value for n: \"))\n",
    "\n",
    "def t16np():\n",
    "    arr = np.arange(n+1)\n",
    "    arr[(arr > n/4) & (arr < 3*n/4)] = 0\n",
    "\n",
    "    print(arr)\n",
    "\n",
    "def t16py():\n",
    "    array = [0] * n\n",
    "\n",
    "    for i in range(n):\n",
    "        array[i] = i\n",
    "\n",
    "    for i in range(n):\n",
    "        if n/4 < array[i] < 3*n/4:\n",
    "            array[i] = 0\n",
    "\n",
    "    print(array)\n",
    "    \n",
    "t16np()\n",
    "t16py()\n",
    "%timeit t16np\n",
    "%timeit t16py"
   ]
  },
  {
   "cell_type": "markdown",
   "id": "d409e648",
   "metadata": {},
   "source": [
    "20. Згенерувати вектор із n випадкових елементів, що\n",
    "лежать в інтервалі (0,1). Замінити максимальний елемент на 0."
   ]
  },
  {
   "cell_type": "code",
   "execution_count": 48,
   "id": "9820b646",
   "metadata": {},
   "outputs": [
    {
     "name": "stdout",
     "output_type": "stream",
     "text": [
      "Enter size of vector: 13\n",
      "Original vector:\n",
      " [0.64940731 0.51682009 0.77368717 0.65734221 0.32415933 0.15556221\n",
      " 0.68504987 0.4372911  0.27287579 0.8802654  0.13623482 0.20455666\n",
      " 0.49796307]\n",
      "Modified vector:\n",
      " [0.64940731 0.51682009 0.77368717 0.65734221 0.32415933 0.15556221\n",
      " 0.68504987 0.4372911  0.27287579 0.         0.13623482 0.20455666\n",
      " 0.49796307]\n",
      "Original vector: [0.8196905722986819, 0.02951030793594822, 0.1387170951720721, 0.6705826771143365, 0.46535609796830524, 0.417530146905599, 0.7012052124056577, 0.25503984248546163, 0.847228262392911, 0.26151714593112707, 0.865316116088705, 0.3729823737899891, 0.06559883552175683]\n",
      "Modified vector:\n",
      " [0.8196905722986819, 0.02951030793594822, 0.1387170951720721, 0.6705826771143365, 0.46535609796830524, 0.417530146905599, 0.7012052124056577, 0.25503984248546163, 0.847228262392911, 0.26151714593112707, 0, 0.3729823737899891, 0.06559883552175683]\n",
      "25.9 ns ± 0.295 ns per loop (mean ± std. dev. of 7 runs, 10,000,000 loops each)\n",
      "25.9 ns ± 0.144 ns per loop (mean ± std. dev. of 7 runs, 10,000,000 loops each)\n"
     ]
    }
   ],
   "source": [
    "import random\n",
    "\n",
    "n = int(input(\"Enter size of vector: \"))\n",
    "\n",
    "def t20np():\n",
    "    vec = np.random.rand(n)\n",
    "    print(\"Original vector:\\n\", vec)\n",
    "    max_idx = np.argmax(vec)\n",
    "    vec[max_idx] = 0\n",
    "\n",
    "    print(\"Modified vector:\\n\", vec)\n",
    "\n",
    "def t20py():\n",
    "    vec = [0] * n\n",
    "\n",
    "    for i in range(n):\n",
    "        vec[i] = random.random()\n",
    "\n",
    "    print(\"Original vector:\", vec)\n",
    "\n",
    "    max_index = 0\n",
    "    for i in range(1, n):\n",
    "        if vec[i] > vec[max_index]:\n",
    "            max_index = i\n",
    "\n",
    "    vec[max_index] = 0\n",
    "\n",
    "    print(\"Modified vector:\\n\", vec)\n",
    "    \n",
    "t20np()\n",
    "t20py()\n",
    "%timeit t20np\n",
    "%timeit t20py"
   ]
  },
  {
   "cell_type": "code",
   "execution_count": 31,
   "id": "9f116532",
   "metadata": {},
   "outputs": [
    {
     "name": "stdout",
     "output_type": "stream",
     "text": [
      "x_1 = -0.05263157894736883\n",
      "x_2 = 2.9473684210526305\n",
      "x_3 = -0.15789473684210534\n",
      "x_4 = 2.3157894736842115\n",
      "Check solution using matrix multiplication:\n",
      "[ 8.  5. -1. 10.]\n"
     ]
    }
   ],
   "source": [
    "A = np.array([[1, 2, 1, 1], [2, 1, 1, 1], [1, -1, 2, 1], [1, 1, -1, 3]], dtype=float)\n",
    "b = np.array([8, 5, -1, 10], dtype=float)\n",
    "\n",
    "detA = np.linalg.det(A)\n",
    "\n",
    "if abs(detA) < 1e-9:\n",
    "    print(\"Determinant of A is zero. The system of equations may not have a unique solution.\")\n",
    "else:\n",
    "    cramer = np.zeros(4)\n",
    "    for i in range(4):\n",
    "        A_c = A.copy()\n",
    "        A_c[:,i] = b\n",
    "        detA_c = np.linalg.det(A_c)\n",
    "        cramer[i] = detA_c / detA\n",
    "    \n",
    "for i in range(len(x2)):\n",
    "    print(f\"x_{i+1} = {cramer[i]}\")\n",
    "    \n",
    "Ax = np.dot(A, cramer)\n",
    "print(\"Check solution using matrix multiplication:\")\n",
    "print(Ax)"
   ]
  },
  {
   "cell_type": "code",
   "execution_count": 25,
   "id": "1fa695f4",
   "metadata": {},
   "outputs": [
    {
     "name": "stdout",
     "output_type": "stream",
     "text": [
      "The solution is:\n",
      "x_1 = -0.05263157894736892\n",
      "x_2 = 2.947368421052632\n",
      "x_3 = -0.15789473684210553\n",
      "x_4 = 2.3157894736842106\n"
     ]
    }
   ],
   "source": [
    "x1 = np.linalg.inv(A) @ b\n",
    "\n",
    "print(\"The solution is:\")\n",
    "for i in range(len(x1)):\n",
    "    print(f\"x_{i+1} = {x1[i]}\")"
   ]
  },
  {
   "cell_type": "code",
   "execution_count": 26,
   "id": "19d0c381",
   "metadata": {},
   "outputs": [
    {
     "name": "stdout",
     "output_type": "stream",
     "text": [
      "The solution is:\n",
      "x_1 = -0.05263157894736836\n",
      "x_2 = 2.9473684210526314\n",
      "x_3 = -0.1578947368421053\n",
      "x_4 = 2.3157894736842106\n"
     ]
    }
   ],
   "source": [
    "x2 = np.linalg.solve(A, b)\n",
    "\n",
    "print(\"The solution is:\")\n",
    "for i in range(len(x2)):\n",
    "    print(f\"x_{i+1} = {x2[i]}\")"
   ]
  },
  {
   "cell_type": "code",
   "execution_count": 79,
   "id": "ef8f263b",
   "metadata": {},
   "outputs": [
    {
     "name": "stdout",
     "output_type": "stream",
     "text": [
      "Array x and array x1 are equal: True\n",
      "Array x and array x2 are equal: True\n",
      "Array x1 and array x2 are equal: True\n",
      "Array cramer and array x are equal: True\n",
      "Array cramer and array x1 are equal: True\n",
      "Array cramer and array x2 are equal: True\n"
     ]
    }
   ],
   "source": [
    "xx1_equal = np.allclose(x, x1, rtol=1e-2)\n",
    "xx2_equal = np.allclose(x, x2, rtol=1e-2)\n",
    "x1x2_equal = np.allclose(x1, x2, rtol=1e-2)\n",
    "cramerx_equal = np.allclose(cramer, x, rtol=1e-2)\n",
    "cramerx1_equal = np.allclose(cramer, x1, rtol=1e-2)\n",
    "cramerx2_equal = np.allclose(cramer, x2, rtol=1e-2)\n",
    "\n",
    "# Print the results\n",
    "print(f\"Array x and array x1 are equal: {xx1_equal}\")\n",
    "print(f\"Array x and array x2 are equal: {xx2_equal}\")\n",
    "print(f\"Array x1 and array x2 are equal: {x1x2_equal}\")\n",
    "print(f\"Array cramer and array x are equal: {cramerx_equal}\")\n",
    "print(f\"Array cramer and array x1 are equal: {cramerx1_equal}\")\n",
    "print(f\"Array cramer and array x2 are equal: {cramerx2_equal}\")"
   ]
  },
  {
   "cell_type": "code",
   "execution_count": 63,
   "id": "44049af0",
   "metadata": {},
   "outputs": [
    {
     "name": "stdout",
     "output_type": "stream",
     "text": [
      "Result:\n",
      "[[ -94 -190  -36]\n",
      " [-106 -236   20]\n",
      " [ -20  -38  -28]]\n"
     ]
    }
   ],
   "source": [
    "A = np.array([[1, 4, 2], [2, 1, -2], [0, 1, -1]])\n",
    "B = np.array([[4, 6, -2], [4, 10, 1], [2, 4, -5]])\n",
    "\n",
    "def task3np():\n",
    "    expressionNP = 2*A - (A@A + B)@B\n",
    "    return expressionNP\n",
    "\n",
    "expressionNP = task3np()\n",
    "print(\"Result:\")\n",
    "print(expressionNP)"
   ]
  },
  {
   "cell_type": "code",
   "execution_count": 64,
   "id": "ab647b92",
   "metadata": {},
   "outputs": [
    {
     "name": "stdout",
     "output_type": "stream",
     "text": [
      "Result:\n",
      "[[ -94 -190  -36]\n",
      " [-106 -236   20]\n",
      " [ -20  -38  -28]]\n"
     ]
    }
   ],
   "source": [
    "def matmul(A, B):\n",
    "    n = len(A)\n",
    "    \n",
    "    C = np.full((n, n), 0)\n",
    "    for i in range(n):\n",
    "        for j in range(n):\n",
    "            for k in range(n):\n",
    "                C[i][j] += A[i][k] * B[k][j]\n",
    "    return C\n",
    "\n",
    "def matscale(A, scalar):\n",
    "    n = len(A)\n",
    "    C = np.full((n, n), 0)\n",
    "    for i in range(n):\n",
    "        for j in range(n):\n",
    "            C[i][j] = A[i][j] * scalar\n",
    "    return C\n",
    "\n",
    "def matadd(A, B):\n",
    "    n = len(A)\n",
    "    C = np.full((n, n), 0)\n",
    "    for i in range(n):\n",
    "        for j in range(n):\n",
    "            C[i][j] = A[i][j] + B[i][j]\n",
    "    return C\n",
    "\n",
    "def matsub(A, B):\n",
    "    n = len(A)\n",
    "    C = np.full((n, n), 0)\n",
    "    for i in range(n):\n",
    "        for j in range(n):\n",
    "            C[i][j] = A[i][j] - B[i][j]\n",
    "    return C\n",
    "\n",
    "def task3py():\n",
    "    expressionBrut = matsub(matscale(A, 2), matmul(matadd(matmul(A, A), B), B))\n",
    "    return expressionBrut\n",
    "\n",
    "expressionBrut = task3py()\n",
    "print(\"Result:\")\n",
    "print(expressionBrut)"
   ]
  },
  {
   "cell_type": "code",
   "execution_count": 65,
   "id": "3b330ff8",
   "metadata": {},
   "outputs": [
    {
     "name": "stdout",
     "output_type": "stream",
     "text": [
      "Array expressionNP and array expressionBrut are equal: True\n",
      "4.96 µs ± 47 ns per loop (mean ± std. dev. of 7 runs, 100,000 loops each)\n",
      "79.7 µs ± 330 ns per loop (mean ± std. dev. of 7 runs, 10,000 loops each)\n"
     ]
    }
   ],
   "source": [
    "mat_equal = np.allclose(expressionNP, expressionBrut, rtol=1e-2)\n",
    "print(f\"Array expressionNP and array expressionBrut are equal: {mat_equal}\")\n",
    "\n",
    "%timeit task3np()\n",
    "%timeit task3py()"
   ]
  },
  {
   "cell_type": "code",
   "execution_count": null,
   "id": "18598a15",
   "metadata": {},
   "outputs": [],
   "source": []
  }
 ],
 "metadata": {
  "kernelspec": {
   "display_name": "Python 3 (ipykernel)",
   "language": "python",
   "name": "python3"
  },
  "language_info": {
   "codemirror_mode": {
    "name": "ipython",
    "version": 3
   },
   "file_extension": ".py",
   "mimetype": "text/x-python",
   "name": "python",
   "nbconvert_exporter": "python",
   "pygments_lexer": "ipython3",
   "version": "3.10.9"
  }
 },
 "nbformat": 4,
 "nbformat_minor": 5
}
